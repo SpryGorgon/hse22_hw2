{
  "nbformat": 4,
  "nbformat_minor": 0,
  "metadata": {
    "colab": {
      "provenance": [],
      "collapsed_sections": []
    },
    "kernelspec": {
      "name": "python3",
      "display_name": "Python 3"
    },
    "language_info": {
      "name": "python"
    }
  },
  "cells": [
    {
      "cell_type": "markdown",
      "source": [
        "# Скачиваем данные и устанавливаем программы"
      ],
      "metadata": {
        "id": "WJ71oQTxShEj"
      }
    },
    {
      "cell_type": "code",
      "source": [
        "%%capture\n",
        "!wget https://raw.githubusercontent.com/SpryGorgon/hse22_hw2/main/data/gms2.lst\n",
        "!wget https://raw.githubusercontent.com/SpryGorgon/hse22_hw2/main/data/scaffolds.fasta\n",
        "!wget https://raw.githubusercontent.com/SpryGorgon/hse22_hw2/main/data/proteins.fasta\n",
        "!wget https://raw.githubusercontent.com/SpryGorgon/hse22_hw2/main/data/scaffolds.hits_from_MIL_1.txt\n",
        "!wget https://raw.githubusercontent.com/SpryGorgon/hse22_hw2/main/data/scaffolds.hits_from_SwissProt.txt"
      ],
      "metadata": {
        "id": "fWSU9pxNTOSR"
      },
      "execution_count": null,
      "outputs": []
    },
    {
      "cell_type": "markdown",
      "metadata": {
        "id": "EkEflOHmCHHW"
      },
      "source": [
        "## Скачиваем геном близкородственной бактерии T.oleivorans"
      ]
    },
    {
      "cell_type": "markdown",
      "metadata": {
        "id": "noBYTW1bRH9O"
      },
      "source": [
        "Геном, последовательности генов (нт) и белков (протеом) для бактерии Thalassolituus oleivorans MIL-1\n",
        "https://www.ncbi.nlm.nih.gov/nuccore/HF680312"
      ]
    },
    {
      "cell_type": "code",
      "source": [
        "!sh -c \"$(curl -fsSL ftp://ftp.ncbi.nlm.nih.gov/entrez/entrezdirect/install-edirect.sh)\""
      ],
      "metadata": {
        "id": "bqv3FR5efmk6",
        "colab": {
          "base_uri": "https://localhost:8080/"
        },
        "outputId": "0398e1ae-d73d-4414-a3dd-86a0db9744d4"
      },
      "execution_count": null,
      "outputs": [
        {
          "output_type": "stream",
          "name": "stdout",
          "text": [
            "\n",
            "Entrez Direct has been successfully downloaded and installed.\n",
            "\n",
            "In order to complete the configuration process, please execute the following:\n",
            "\n",
            "  echo \"export PATH=\\${PATH}:/root/edirect\" >> ${HOME}/.bashrc\n",
            "\n",
            "or manually edit the PATH variable assignment in your .bashrc file.\n",
            "\n",
            "Would you like to do that automatically now? [y/N]\n",
            "y\n",
            "OK, done.\n",
            "\n",
            "To activate EDirect for this terminal session, please execute the following:\n",
            "\n",
            "export PATH=${PATH}:${HOME}/edirect\n",
            "\n"
          ]
        }
      ]
    },
    {
      "cell_type": "code",
      "source": [
        "!$HOME/edirect/efetch -db nuccore -id HF680312 -format gb  >  T_oleivorans_MIL_1.gbk"
      ],
      "metadata": {
        "id": "4O3-rUx4fvbw"
      },
      "execution_count": null,
      "outputs": []
    },
    {
      "cell_type": "code",
      "metadata": {
        "id": "j2uga-mieSB6"
      },
      "source": [
        "%%capture\n",
        "!pip install biopython"
      ],
      "execution_count": null,
      "outputs": []
    },
    {
      "cell_type": "markdown",
      "source": [
        "## Аннотация генома"
      ],
      "metadata": {
        "id": "EJIw_JDLUgt5"
      }
    },
    {
      "cell_type": "markdown",
      "source": [
        "Biopython Tutorial: http://biopython.org/DIST/docs/tutorial/Tutorial.html"
      ],
      "metadata": {
        "id": "qhxlclhoYhBh"
      }
    },
    {
      "cell_type": "code",
      "source": [
        "!head -n 20 gms2.lst"
      ],
      "metadata": {
        "id": "G33GF-iGU9Ka",
        "colab": {
          "base_uri": "https://localhost:8080/"
        },
        "outputId": "40f1846f-48c8-40e1-ecf8-2cf9c47b2858"
      },
      "execution_count": null,
      "outputs": [
        {
          "output_type": "stream",
          "name": "stdout",
          "text": [
            "# GeneMark.hmm-2 LST format\n",
            "# GeneMark.hmm-2 prokaryotic version: 1.25_lic\n",
            "# File with sequence: scaffolds.fasta\n",
            "# File with native parameters: GMS2.mod\n",
            "# Native species name and build: unspecified GeneMarkS-2-1.14_1.25_lic\n",
            "# File with MetaGeneMark parameters: /content/gms2_linux_64/mgm_11.mod\n",
            "# translation table: 11\n",
            "# output date start: Wed Oct 12 19:41:49 2022\n",
            "\n",
            "# sequence-region 1 3880139\n",
            "SequenceID: scaffold1_cov232\n",
            "     1   -   <3    299     297 native GAGGTG 4 1\n",
            "     2   -    372    815     444 atypical AGCGAG 6 1\n",
            "     3   -    840    1361     522 atypical CAGGAA 7 1\n",
            "     4   -    1799    2626     828 atypical CAGGAT 10 1\n",
            "     5   +    2972    3094     123 native TTGGAG 7 1\n",
            "     6   -    3269    4003     735 native CAGGTC 8 1\n",
            "     7   -    4341    5516    1176 native TAGGAG 9 1\n",
            "     8   -    5541    7688    2148 native GTGGAG 8 1\n",
            "     9   +    8057    8851     795 native AAGTAG 6 1\n"
          ]
        }
      ]
    },
    {
      "cell_type": "markdown",
      "source": [
        "Для примера проаннотируем два коротких скаффолда (scaffold3_cov275 и scaffold9_cov256):\n",
        "\n"
      ],
      "metadata": {
        "id": "OKK4GsdqZPZ6"
      }
    },
    {
      "cell_type": "code",
      "metadata": {
        "id": "1hegJvwMIiPe"
      },
      "source": [
        "from Bio import SeqIO\n",
        "\n",
        "records={}\n",
        "for record in SeqIO.parse(\"/content/scaffolds.fasta\", \"fasta\"):\n",
        "  records[record.id] = record\n",
        "  records[record.id].annotations['molecule_type'] = 'DNA'\n",
        "  records[record.id].format(\"genbank\")"
      ],
      "execution_count": null,
      "outputs": []
    },
    {
      "cell_type": "code",
      "source": [
        "SeqIO.write([record[1] for record in records.items()], \"GENOME.gbk\", \"genbank\")"
      ],
      "metadata": {
        "id": "4mv05veKXHWo",
        "colab": {
          "base_uri": "https://localhost:8080/"
        },
        "outputId": "5cd3640d-2bd1-4a36-af38-7344540bc1bb"
      },
      "execution_count": null,
      "outputs": [
        {
          "output_type": "execute_result",
          "data": {
            "text/plain": [
              "69"
            ]
          },
          "metadata": {},
          "execution_count": 7
        }
      ]
    },
    {
      "cell_type": "markdown",
      "source": [
        "## Добавляем координаты генов"
      ],
      "metadata": {
        "id": "nuikKeO1bL7N"
      }
    },
    {
      "cell_type": "markdown",
      "source": [
        "```\n",
        "SequenceID: scaffold3_cov275\n",
        "  3535   -    30    1001     972 atypical GTCGAG 5 1\n",
        "  3536   -    1350    2192     843 native AAAGTG 7 1\n",
        "  3537   +    2304    2507     204 native GCGGAG 7 1\n",
        "  3538   -    2554    2751     198 native TAAGTA 7 1\n",
        "  3539   +    2855    3265     411 native TCGGTC 6 1\n",
        "```"
      ],
      "metadata": {
        "id": "lR-FjFgRba09"
      }
    },
    {
      "cell_type": "code",
      "source": [
        "from pprint import pprint\n",
        "from Bio.SeqFeature import SeqFeature, FeatureLocation\n",
        "\n",
        "genes = {}\n",
        "\n",
        "skip=9\n",
        "with open(\"gms2.lst\") as f:\n",
        "    lines = f.readlines()\n",
        "    lines = [line.strip() for line in lines[skip:]]\n",
        "    reading=False\n",
        "    buf=[]\n",
        "    name=''\n",
        "    for line in lines:\n",
        "        if(len(line)==0):\n",
        "            continue\n",
        "        if(line[0]=='#'):\n",
        "            if reading:\n",
        "                if(len(buf)>0):\n",
        "                    genes[name] = buf.copy()\n",
        "                reading=False\n",
        "                name=''\n",
        "                buf=[]\n",
        "            else:\n",
        "                reading=True\n",
        "            continue\n",
        "        if(name==''):\n",
        "            name = line.split()[1]\n",
        "            continue\n",
        "        buf.append(line.split())"
      ],
      "metadata": {
        "id": "xJnEoM4_4Xul"
      },
      "execution_count": null,
      "outputs": []
    },
    {
      "cell_type": "code",
      "source": [
        "for key in records:\n",
        "    record = records[key]\n",
        "    features=[]\n",
        "    if record.name not in genes:\n",
        "        continue\n",
        "    for gene in genes[record.name]:\n",
        "        feature = SeqFeature(FeatureLocation(int(str(gene[2]).strip('<>')), int(str(gene[3]).strip('<>')), (1 if gene[1]=='+' else -1)), type='CDS')\n",
        "        feature.qualifiers['locus_tag'] = [gene[0]]\n",
        "        features.append(feature)\n",
        "    records[key].features = features.copy()\n",
        "pprint([record[1] for record in records.items()][0].features[5].qualifiers)"
      ],
      "metadata": {
        "colab": {
          "base_uri": "https://localhost:8080/"
        },
        "id": "n5dm1_Cq9la1",
        "outputId": "1353af2e-6639-4ce3-b652-159fe5093f6b"
      },
      "execution_count": null,
      "outputs": [
        {
          "output_type": "stream",
          "name": "stdout",
          "text": [
            "OrderedDict([('locus_tag', ['6'])])\n"
          ]
        }
      ]
    },
    {
      "cell_type": "code",
      "source": [
        "SeqIO.write([record[1] for record in records.items()], \"GENOME.gbk\", \"genbank\")"
      ],
      "metadata": {
        "colab": {
          "base_uri": "https://localhost:8080/"
        },
        "id": "5G6qTIzYAHyl",
        "outputId": "28fa4837-93cd-46d0-a961-77d25a7c3488"
      },
      "execution_count": null,
      "outputs": [
        {
          "output_type": "execute_result",
          "data": {
            "text/plain": [
              "69"
            ]
          },
          "metadata": {},
          "execution_count": 10
        }
      ]
    },
    {
      "cell_type": "markdown",
      "source": [
        "## Добавляем трансляции генов (аминокислотные посл-ти)"
      ],
      "metadata": {
        "id": "ed-CWFY3cZK0"
      }
    },
    {
      "cell_type": "code",
      "source": [
        "for protein in SeqIO.parse(\"proteins.fasta\", \"fasta\"):\n",
        "    for key in records:\n",
        "        for feature in records[key].features:\n",
        "            if protein.id == feature.qualifiers['locus_tag'][0]:\n",
        "                feature.qualifiers['translation'] = [protein.seq]\n",
        "pprint([record[1] for record in records.items()][0].features[5].qualifiers)"
      ],
      "metadata": {
        "id": "lmT1wp0Bcnlq",
        "colab": {
          "base_uri": "https://localhost:8080/"
        },
        "outputId": "82c90b4f-19d2-4506-b6ae-565a2dbb7e45"
      },
      "execution_count": null,
      "outputs": [
        {
          "output_type": "stream",
          "name": "stdout",
          "text": [
            "OrderedDict([('locus_tag', ['6']),\n",
            "             ('translation',\n",
            "              [Seq('VDLTLDFDLSIGEIKYTDDDVFDGGSLSVSGVTLGGGAGRTTLFGEAVTNTSRI...AGH')])])\n"
          ]
        }
      ]
    },
    {
      "cell_type": "code",
      "source": [
        "SeqIO.write([record[1] for record in records.items()], \"GENOME.gbk\", \"genbank\")"
      ],
      "metadata": {
        "id": "AZfod3Pcv-yP",
        "colab": {
          "base_uri": "https://localhost:8080/"
        },
        "outputId": "7ef1b4e0-38ff-4c87-c5b5-0917c6bdf592"
      },
      "execution_count": null,
      "outputs": [
        {
          "output_type": "execute_result",
          "data": {
            "text/plain": [
              "69"
            ]
          },
          "metadata": {},
          "execution_count": 12
        }
      ]
    },
    {
      "cell_type": "markdown",
      "source": [
        "## Добавляем функции белков (из бактерии MIL-1)"
      ],
      "metadata": {
        "id": "D2UNiwEyet54"
      }
    },
    {
      "cell_type": "markdown",
      "source": [
        "Часть файла scaffolds.hits_from_MIL_1.txt:\n",
        "```\n",
        "3535\tlcl|HF680312.1_prot_CCU72326.1_1877\t99.054\t317\t3\t0\t3\t319\t1\t317\t0.0\t644\n",
        "3535\tlcl|HF680312.1_prot_CCU72392.1_1943\t34.583\t240\t138\t5\t85\t307\t956\t1193\t2.33e-30\t118\n",
        "3535\tlcl|HF680312.1_prot_CCU72759.1_2310\t27.667\t300\t188\t8\t8\t302\t709\t984\t1.02e-24\t101\n",
        "3535\tlcl|HF680312.1_prot_CCU70543.1_94\t42.857\t126\t71\t1\t79\t204\t798\t922\t5.63e-24\t99.4\n",
        "3535\tlcl|HF680312.1_prot_CCU70690.1_241\t26.140\t329\t205\t10\t2\t303\t591\t908\t6.26e-23\t96.7\n",
        "3535\tlcl|HF680312.1_prot_CCU74013.1_3564\t38.462\t130\t76\t3\t91\t219\t685\t811\t4.96e-20\t87.8\n",
        "3535\tlcl|HF680312.1_prot_CCU71475.1_1026\t36.522\t115\t71\t2\t86\t200\t555\t667\t2.19e-16\t76.6\n",
        "3535\tlcl|HF680312.1_prot_CCU71362.1_913\t24.535\t269\t187\t3\t52\t306\t633\t899\t2.61e-14\t70.5\n",
        "3535\tlcl|HF680312.1_prot_CCU70724.1_275\t30.534\t131\t81\t3\t78\t205\t1983\t2106\t6.54e-13\t66.2\n",
        "3535\tlcl|HF680312.1_prot_CCU70719.1_270\t26.087\t115\t83\t1\t90\t204\t15\t127\t9.14e-12\t58.5\n",
        "3535\tlcl|HF680312.1_prot_CCU72006.1_1557\t35.652\t115\t68\t3\t87\t200\t421\t530\t1.06e-11\t62.0\n",
        "3535\tlcl|HF680312.1_prot_CCU72513.1_2064\t33.628\t113\t72\t1\t91\t200\t766\t878\t1.22e-11\t62.4\n",
        "3536\tlcl|HF680312.1_prot_CCU72327.1_1878\t100.000\t280\t0\t0\t1\t280\t1\t280\t0.0\t570\n",
        "3536\tlcl|HF680312.1_prot_CCU72858.1_2409\t27.437\t277\t181\t4\t10\t272\t1\t271\t1.82e-26\t101\n",
        "3537\tlcl|HF680312.1_prot_CCU72328.1_1879\t100.000\t67\t0\t0\t1\t67\t1\t67\t9.75e-44\t132\n",
        "```"
      ],
      "metadata": {
        "id": "tCFpL_GLfDzJ"
      }
    },
    {
      "cell_type": "code",
      "source": [
        "!head scaffolds.hits_from_MIL_1.txt"
      ],
      "metadata": {
        "colab": {
          "base_uri": "https://localhost:8080/"
        },
        "id": "CokKbA-2Z2s3",
        "outputId": "a1a80107-563f-424c-b189-c194dccdc9dd"
      },
      "execution_count": null,
      "outputs": [
        {
          "output_type": "stream",
          "name": "stdout",
          "text": [
            "1\tlcl|HF680312.1_prot_CCU71653.1_1204\t98.990\t99\t1\t0\t1\t99\t1\t99\t8.08e-68\t196\n",
            "1\tlcl|HF680312.1_prot_CCU72283.1_1834\t97.980\t99\t2\t0\t1\t99\t1\t99\t2.29e-67\t194\n",
            "1\tlcl|HF680312.1_prot_CCU71933.1_1484\t97.980\t99\t2\t0\t1\t99\t1\t99\t4.15e-66\t191\n",
            "1\tlcl|HF680312.1_prot_CCU71592.1_1143\t97.980\t99\t2\t0\t1\t99\t1\t99\t4.15e-66\t191\n",
            "1\tlcl|HF680312.1_prot_CCU71865.1_1416\t96.774\t62\t2\t0\t1\t62\t1\t62\t2.15e-42\t130\n",
            "1\tlcl|HF680312.1_prot_CCU71866.1_1417\t95.349\t43\t2\t0\t1\t43\t1\t43\t4.93e-27\t90.9\n",
            "1\tlcl|HF680312.1_prot_CCU71222.1_773\t100.000\t46\t0\t0\t54\t99\t7\t52\t2.12e-24\t84.7\n",
            "3\tlcl|HF680312.1_prot_CCU71928.1_1479\t100.000\t173\t0\t0\t1\t173\t1\t173\t1.66e-130\t359\n",
            "5\tlcl|HF680312.1_prot_CCU71924.1_1475\t97.143\t35\t1\t0\t1\t35\t1\t35\t1.51e-19\t75.1\n",
            "6\tlcl|HF680312.1_prot_CCU71587.1_1138\t98.770\t244\t3\t0\t1\t244\t38\t281\t2.17e-171\t470\n"
          ]
        }
      ]
    },
    {
      "cell_type": "code",
      "source": [
        "functions = {}\n",
        "with open('scaffolds.hits_from_MIL_1.txt', 'r') as f:\n",
        "    lines = f.readlines()\n",
        "    prev = ''\n",
        "    for line in lines:\n",
        "        ls = line.split()\n",
        "        if ls[0]!=prev:\n",
        "            functions[ls[0]] = ls[1].split('_')[2]\n",
        "            prev=ls[0]\n",
        "\n",
        "for record_key in records:\n",
        "    for i,feature in enumerate(records[record_key].features):\n",
        "        tag = feature.qualifiers['locus_tag'][0]\n",
        "        if tag in functions.keys():\n",
        "            records[record_key].features[i].qualifiers['note'] = [functions[tag]]\n",
        "pprint([record[1] for record in records.items()][0].features[5].qualifiers)"
      ],
      "metadata": {
        "colab": {
          "base_uri": "https://localhost:8080/"
        },
        "id": "nJr-IOdzbqsL",
        "outputId": "1c6c78b7-60b8-433d-e74d-706af1706731"
      },
      "execution_count": null,
      "outputs": [
        {
          "output_type": "stream",
          "name": "stdout",
          "text": [
            "OrderedDict([('locus_tag', ['6']),\n",
            "             ('translation',\n",
            "              [Seq('VDLTLDFDLSIGEIKYTDDDVFDGGSLSVSGVTLGGGAGRTTLFGEAVTNTSRI...AGH')]),\n",
            "             ('note', ['CCU71587.1'])])\n"
          ]
        }
      ]
    },
    {
      "cell_type": "code",
      "source": [
        "mil_1_genome = SeqIO.read(\"/content/T_oleivorans_MIL_1.gbk\", \"genbank\")"
      ],
      "metadata": {
        "id": "MxKSgTvihLIY"
      },
      "execution_count": null,
      "outputs": []
    },
    {
      "cell_type": "code",
      "metadata": {
        "id": "4EDCGDdmZt8O",
        "colab": {
          "base_uri": "https://localhost:8080/"
        },
        "outputId": "e6e85432-f7aa-435f-edca-6f267c55a6c3"
      },
      "source": [
        "for  mil_f in mil_1_genome.features:\n",
        "    if 'protein_id' not in mil_f.qualifiers:\n",
        "        continue\n",
        "\n",
        "    for key, record in records.items():\n",
        "        for i,feature in enumerate(record.features):\n",
        "            if 'note' not in feature.qualifiers:\n",
        "                continue\n",
        "            if feature.qualifiers['note'][0] == mil_f.qualifiers['protein_id'][0]:\n",
        "                records[key].features[i].qualifiers['product'] = mil_f.qualifiers['product']\n",
        "pprint([record[1] for record in records.items()][0].features[5].qualifiers)"
      ],
      "execution_count": null,
      "outputs": [
        {
          "output_type": "stream",
          "name": "stdout",
          "text": [
            "OrderedDict([('locus_tag', ['6']),\n",
            "             ('translation',\n",
            "              [Seq('VDLTLDFDLSIGEIKYTDDDVFDGGSLSVSGVTLGGGAGRTTLFGEAVTNTSRI...AGH')]),\n",
            "             ('note', ['CCU71587.1']),\n",
            "             ('product', ['hypothetical protein'])])\n"
          ]
        }
      ]
    },
    {
      "cell_type": "code",
      "source": [
        "SeqIO.write([record[1] for record in records.items()], \"GENOME.gbk\", \"genbank\")"
      ],
      "metadata": {
        "id": "KHcrRw4HxTzk",
        "colab": {
          "base_uri": "https://localhost:8080/"
        },
        "outputId": "9e130c07-ea73-4a09-e5cf-cd7ab08b1726"
      },
      "execution_count": null,
      "outputs": [
        {
          "output_type": "execute_result",
          "data": {
            "text/plain": [
              "69"
            ]
          },
          "metadata": {},
          "execution_count": 17
        }
      ]
    },
    {
      "cell_type": "markdown",
      "source": [
        "## Добавляем функции белков (из БД SwissProt)"
      ],
      "metadata": {
        "id": "Pr5GctSQxlsQ"
      }
    },
    {
      "cell_type": "markdown",
      "source": [
        "Читаем информацию из файла scaffolds.hits_from_SwissProt.txt"
      ],
      "metadata": {
        "id": "xLafv2r8xo6P"
      }
    },
    {
      "cell_type": "code",
      "source": [
        "!head scaffolds.hits_from_SwissProt.txt"
      ],
      "metadata": {
        "id": "_bHOMEqhxvDd",
        "colab": {
          "base_uri": "https://localhost:8080/"
        },
        "outputId": "4cb552d3-4278-4d7e-b0a7-54115de44ef8"
      },
      "execution_count": null,
      "outputs": [
        {
          "output_type": "stream",
          "name": "stdout",
          "text": [
            "169\tsp|P55546|Y4LF_SINFN\t42.553\t141\t80\t1\t1\t141\t1\t140\t1.17e-36\t144\n",
            "428\tsp|Q06916|GUFA_MYXXA\t43.802\t242\t136\t0\t71\t312\t13\t254\t2.33e-47\t162\n",
            "428\tsp|Q3B4G1|ZUPT_CHLL3\t34.016\t244\t148\t6\t72\t304\t17\t258\t6.82e-25\t103\n",
            "428\tsp|Q8N1S5|S39AB_HUMAN\t40.625\t160\t83\t3\t162\t312\t186\t342\t1.64e-23\t101\n",
            "428\tsp|Q6P6S2|S39AB_RAT\t40.000\t160\t84\t3\t162\t312\t179\t335\t2.03e-23\t101\n",
            "428\tsp|Q2YDD4|S39AB_BOVIN\t40.000\t160\t84\t3\t162\t312\t185\t341\t2.62e-23\t101\n",
            "428\tsp|Q8NQK0|ZUPT_CORGL\t35.968\t253\t144\t7\t67\t306\t10\t257\t1.83e-22\t97.4\n",
            "428\tsp|Q8BWY7|S39AB_MOUSE\t41.176\t153\t78\t3\t169\t312\t193\t342\t2.70e-22\t98.6\n",
            "428\tsp|B3ECE6|ZUPT_CHLL2\t34.000\t250\t146\t10\t71\t306\t16\t260\t5.36e-22\t96.3\n",
            "428\tsp|Q28J44|S39AB_XENTR\t39.623\t159\t84\t3\t163\t312\t181\t336\t1.08e-21\t96.7\n"
          ]
        }
      ]
    },
    {
      "cell_type": "markdown",
      "source": [
        "product = 'Similar to SwissProt protein Y1178_METJA (E-value = 2.95e-28)'"
      ],
      "metadata": {
        "id": "UykENPFgyIQu"
      }
    },
    {
      "cell_type": "markdown",
      "source": [
        "Получить функции белков SwissProt из файла: https://ftp.uniprot.org/pub/databases/uniprot/current_release/knowledgebase/complete/uniprot_sprot.dat.gz"
      ],
      "metadata": {
        "id": "HWWUeHCdyAdb"
      }
    },
    {
      "cell_type": "code",
      "source": [
        "!wget https://ftp.uniprot.org/pub/databases/uniprot/current_release/knowledgebase/complete/uniprot_sprot.dat.gz"
      ],
      "metadata": {
        "colab": {
          "base_uri": "https://localhost:8080/"
        },
        "id": "tTRJ0KfnWIdt",
        "outputId": "d69619f6-256d-44f0-9d80-132b9cd5a4d6"
      },
      "execution_count": null,
      "outputs": [
        {
          "output_type": "stream",
          "name": "stdout",
          "text": [
            "--2022-10-13 14:06:23--  https://ftp.uniprot.org/pub/databases/uniprot/current_release/knowledgebase/complete/uniprot_sprot.dat.gz\n",
            "Resolving ftp.uniprot.org (ftp.uniprot.org)... 128.175.240.195\n",
            "Connecting to ftp.uniprot.org (ftp.uniprot.org)|128.175.240.195|:443... connected.\n",
            "HTTP request sent, awaiting response... 200 OK\n",
            "Length: 642093634 (612M) [application/x-gzip]\n",
            "Saving to: ‘uniprot_sprot.dat.gz’\n",
            "\n",
            "uniprot_sprot.dat.g 100%[===================>] 612.35M   142MB/s    in 4.5s    \n",
            "\n",
            "2022-10-13 14:06:28 (137 MB/s) - ‘uniprot_sprot.dat.gz’ saved [642093634/642093634]\n",
            "\n"
          ]
        }
      ]
    },
    {
      "cell_type": "code",
      "source": [
        "!gzip -d uniprot_sprot.dat.gz"
      ],
      "metadata": {
        "id": "_7n4ZxdjWPxH"
      },
      "execution_count": null,
      "outputs": []
    },
    {
      "cell_type": "code",
      "source": [
        "!grep P55546 uniprot_sprot.dat -n"
      ],
      "metadata": {
        "colab": {
          "base_uri": "https://localhost:8080/"
        },
        "id": "-nbARM7PWy3z",
        "outputId": "a63bf411-9a44-4d9f-f893-4e45d204ec6e"
      },
      "execution_count": null,
      "outputs": [
        {
          "output_type": "stream",
          "name": "stdout",
          "text": [
            "17489282:DR   EMBL; DS499594; EDP55546.1; -; Genomic_DNA.\n",
            "17489285:DR   EnsemblFungi; EDP55546; EDP55546; AFUB_002410.\n",
            "72940416:AC   P55546;\n",
            "72940453:DR   AlphaFoldDB; P55546; -.\n"
          ]
        }
      ]
    },
    {
      "cell_type": "code",
      "source": [
        "uniprot = SeqIO.index(\"/content/uniprot_sprot.dat\", \"swiss\")"
      ],
      "metadata": {
        "id": "kpotSpGJj_t5"
      },
      "execution_count": null,
      "outputs": []
    },
    {
      "cell_type": "code",
      "source": [
        "uniprot['Q8N1S5'].features[0].qualifiers"
      ],
      "metadata": {
        "colab": {
          "base_uri": "https://localhost:8080/"
        },
        "id": "wD2tdA8f8fYP",
        "outputId": "62ef53b0-af7e-41f4-a69b-12ec95b8bae9"
      },
      "execution_count": null,
      "outputs": [
        {
          "output_type": "execute_result",
          "data": {
            "text/plain": [
              "{'note': 'Zinc transporter ZIP11'}"
            ]
          },
          "metadata": {},
          "execution_count": 23
        }
      ]
    },
    {
      "cell_type": "code",
      "source": [
        "swiss_notes={}\n",
        "with open('scaffolds.hits_from_SwissProt.txt', 'r') as f:\n",
        "    lines = f.readlines()\n",
        "    prev = ''\n",
        "    for line in lines:\n",
        "        ls = line.split()\n",
        "        if ls[0]!=prev:\n",
        "            swiss_notes[ls[0]] = ls[1].split('|')[1]\n",
        "            prev=ls[0]"
      ],
      "metadata": {
        "id": "88H9HBP49pXJ"
      },
      "execution_count": null,
      "outputs": []
    },
    {
      "cell_type": "code",
      "source": [
        "tmp = list(uniprot.keys())\n",
        "for key, record in records.items():\n",
        "    for i,feature in enumerate(record.features):\n",
        "        tag = feature.qualifiers['locus_tag'][0]\n",
        "        if tag not in swiss_notes.keys():\n",
        "            continue\n",
        "        \n",
        "        try:\n",
        "            records[key].features[i].qualifiers['note'] = [swiss_notes[tag]]\n",
        "            records[key].features[i].qualifiers['product'] = uniprot[swiss_notes[tag]].features[0].qualifiers['note']\n",
        "        except:\n",
        "            pass\n",
        "pprint([record[1] for record in records.items()][0].features[168].qualifiers)"
      ],
      "metadata": {
        "colab": {
          "base_uri": "https://localhost:8080/"
        },
        "id": "YUU671K48zkW",
        "outputId": "49a50d5e-6b14-45a6-8ab6-808587205c89"
      },
      "execution_count": null,
      "outputs": [
        {
          "output_type": "stream",
          "name": "stdout",
          "text": [
            "OrderedDict([('locus_tag', ['169']),\n",
            "             ('translation',\n",
            "              [Seq('MPTKIFISYSHKDEEFKNSLAEHLAGLERSGAISEWNDRKIAPGTDWSHEINEN...RIG')]),\n",
            "             ('note', ['P55546']),\n",
            "             ('product', 'Uncharacterized protein y4lF')])\n"
          ]
        }
      ]
    },
    {
      "cell_type": "code",
      "source": [
        "SeqIO.write([record[1] for record in records.items()], \"GENOME.gbk\", \"genbank\")"
      ],
      "metadata": {
        "colab": {
          "base_uri": "https://localhost:8080/"
        },
        "id": "AJjshgYlR01u",
        "outputId": "48ab0a85-8814-4ba6-a5b3-7d9c4d3c8a1d"
      },
      "execution_count": null,
      "outputs": [
        {
          "output_type": "execute_result",
          "data": {
            "text/plain": [
              "69"
            ]
          },
          "metadata": {},
          "execution_count": 26
        }
      ]
    }
  ]
}