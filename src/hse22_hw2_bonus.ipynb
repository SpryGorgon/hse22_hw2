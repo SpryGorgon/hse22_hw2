{
  "nbformat": 4,
  "nbformat_minor": 0,
  "metadata": {
    "colab": {
      "provenance": []
    },
    "kernelspec": {
      "name": "python3",
      "display_name": "Python 3"
    },
    "language_info": {
      "name": "python"
    }
  },
  "cells": [
    {
      "cell_type": "markdown",
      "source": [
        "# Скачивание файлов близкородственной бактерии"
      ],
      "metadata": {
        "id": "9l4mfp8udffD"
      }
    },
    {
      "cell_type": "code",
      "execution_count": 1,
      "metadata": {
        "id": "bGAKTNXRdDCt",
        "colab": {
          "base_uri": "https://localhost:8080/"
        },
        "outputId": "90c79fe0-9f61-463e-8184-622d66d18280"
      },
      "outputs": [
        {
          "output_type": "stream",
          "name": "stdout",
          "text": [
            "\n",
            "Entrez Direct has been successfully downloaded and installed.\n",
            "\n",
            "In order to complete the configuration process, please execute the following:\n",
            "\n",
            "  echo \"export PATH=\\${PATH}:/root/edirect\" >> ${HOME}/.bashrc\n",
            "\n",
            "or manually edit the PATH variable assignment in your .bashrc file.\n",
            "\n",
            "Would you like to do that automatically now? [y/N]\n",
            "y\n",
            "OK, done.\n",
            "\n",
            "To activate EDirect for this terminal session, please execute the following:\n",
            "\n",
            "export PATH=${PATH}:${HOME}/edirect\n",
            "\n"
          ]
        }
      ],
      "source": [
        "!sh -c \"$(curl -fsSL ftp://ftp.ncbi.nlm.nih.gov/entrez/entrezdirect/install-edirect.sh)\""
      ]
    },
    {
      "cell_type": "code",
      "source": [
        "!$HOME/edirect/efetch -db nuccore -id HF680312 -format gb  >  T_oleivorans_MIL_1.gbk"
      ],
      "metadata": {
        "id": "tdiKn0-mduZ-"
      },
      "execution_count": 2,
      "outputs": []
    },
    {
      "cell_type": "markdown",
      "source": [
        "# Установка програм "
      ],
      "metadata": {
        "id": "GxMG_d0Pd3lc"
      }
    },
    {
      "cell_type": "code",
      "source": [
        "%%capture\n",
        "!pip install biopython\n",
        "!apt-get update\n",
        "!apt-get install ncbi-blast+\n",
        "!wget https://raw.githubusercontent.com/SpryGorgon/hse22_hw2/main/data/scaffolds.fasta"
      ],
      "metadata": {
        "id": "MhDe8g4Md1xI"
      },
      "execution_count": 3,
      "outputs": []
    },
    {
      "cell_type": "markdown",
      "source": [
        "Прочитать подробнее можно тут https://www.ncbi.nlm.nih.gov/books/NBK279690/ "
      ],
      "metadata": {
        "id": "fJL5gxFlhnw7"
      }
    },
    {
      "cell_type": "markdown",
      "source": [
        "# Предсказание рибосомальной рнк"
      ],
      "metadata": {
        "id": "w5_RP4Yafn_i"
      }
    },
    {
      "cell_type": "code",
      "source": [
        "from pprint import pprint\n",
        "from Bio import SeqIO\n",
        "from Bio.SeqFeature import SeqFeature, FeatureLocation\n",
        "from Bio.SeqRecord import SeqRecord\n",
        "\n",
        "mil_1_genome = SeqIO.read(\"/content/T_oleivorans_MIL_1.gbk\", \"genbank\")"
      ],
      "metadata": {
        "id": "zkZ0BC5Ja1n0"
      },
      "execution_count": 4,
      "outputs": []
    },
    {
      "cell_type": "code",
      "source": [
        "records=[]\n",
        "for feature in mil_1_genome.features:\n",
        "    if(feature.type=='rRNA' and feature.qualifiers['product'][0][:3] in ['5S ', '16S', '23S']):\n",
        "        record = records.append(SeqRecord(feature.extract(mil_1_genome.seq)))\n",
        "        records[-1].id = feature.qualifiers['locus_tag'][0]\n",
        "        records[-1].description = feature.qualifiers['product'][0]\n",
        "\n",
        "SeqIO.write(records, \"query.fasta\", \"fasta\")"
      ],
      "metadata": {
        "id": "gB4iU6j2bBwr",
        "colab": {
          "base_uri": "https://localhost:8080/"
        },
        "outputId": "916c9440-a955-4c7a-e4e0-1d962d0a8070"
      },
      "execution_count": 5,
      "outputs": [
        {
          "output_type": "execute_result",
          "data": {
            "text/plain": [
              "12"
            ]
          },
          "metadata": {},
          "execution_count": 5
        }
      ]
    },
    {
      "cell_type": "code",
      "source": [
        "# Ваш код\n",
        "!blastn -query query.fasta -subject scaffolds.fasta -outfmt 6 > blastn.txt\n",
        "!blastn -query query.fasta -subject scaffolds.fasta -outfmt 7"
      ],
      "metadata": {
        "id": "fng793_WepS2",
        "colab": {
          "base_uri": "https://localhost:8080/"
        },
        "outputId": "40a86832-05a1-4bf9-b834-30e177ff3869"
      },
      "execution_count": 6,
      "outputs": [
        {
          "output_type": "stream",
          "name": "stdout",
          "text": [
            "# BLASTN 2.6.0+\n",
            "# Query: TOL_0319 16S ribosomal RNA\n",
            "# Database: User specified sequence set (Input: scaffolds.fasta)\n",
            "# Fields: query acc.ver, subject acc.ver, % identity, alignment length, mismatches, gap opens, q. start, q. end, s. start, s. end, evalue, bit score\n",
            "# 3 hits found\n",
            "TOL_0319\tscaffold1_cov232\t100.000\t1539\t0\t0\t1\t1539\t2526527\t2528065\t0.0\t2843\n",
            "TOL_0319\tscaffold1_cov232\t99.935\t1539\t1\t0\t1\t1539\t846845\t845307\t0.0\t2837\n",
            "TOL_0319\tscaffold32_cov590\t100.000\t1399\t0\t0\t134\t1532\t1399\t1\t0.0\t2584\n",
            "# BLASTN 2.6.0+\n",
            "# Query: TOL_0322 23S ribosomal RNA\n",
            "# Database: User specified sequence set (Input: scaffolds.fasta)\n",
            "# Fields: query acc.ver, subject acc.ver, % identity, alignment length, mismatches, gap opens, q. start, q. end, s. start, s. end, evalue, bit score\n",
            "# 5 hits found\n",
            "TOL_0322\tscaffold1_cov232\t100.000\t2887\t0\t0\t1\t2887\t2528316\t2531202\t0.0\t5332\n",
            "TOL_0322\tscaffold1_cov232\t99.965\t2887\t1\t0\t1\t2887\t845056\t842170\t0.0\t5326\n",
            "TOL_0322\tscaffold35_cov581\t100.000\t1535\t0\t0\t1353\t2887\t1815\t281\t0.0\t2835\n",
            "TOL_0322\tscaffold41_cov598\t100.000\t1051\t0\t0\t215\t1265\t1051\t1\t0.0\t1941\n",
            "TOL_0322\tscaffold48_cov623\t100.000\t127\t0\t0\t1\t127\t127\t1\t1.30e-61\t235\n",
            "# BLASTN 2.6.0+\n",
            "# Query: TOL_0323 5S ribosomal RNA\n",
            "# Database: User specified sequence set (Input: scaffolds.fasta)\n",
            "# Fields: query acc.ver, subject acc.ver, % identity, alignment length, mismatches, gap opens, q. start, q. end, s. start, s. end, evalue, bit score\n",
            "# 3 hits found\n",
            "TOL_0323\tscaffold1_cov232\t100.000\t116\t0\t0\t1\t116\t841988\t841873\t5.67e-57\t215\n",
            "TOL_0323\tscaffold1_cov232\t100.000\t116\t0\t0\t1\t116\t2531384\t2531499\t5.67e-57\t215\n",
            "TOL_0323\tscaffold35_cov581\t100.000\t99\t0\t0\t1\t99\t99\t1\t1.60e-47\t183\n",
            "# BLASTN 2.6.0+\n",
            "# Query: TOL_2453 5S ribosomal RNA\n",
            "# Database: User specified sequence set (Input: scaffolds.fasta)\n",
            "# Fields: query acc.ver, subject acc.ver, % identity, alignment length, mismatches, gap opens, q. start, q. end, s. start, s. end, evalue, bit score\n",
            "# 3 hits found\n",
            "TOL_2453\tscaffold1_cov232\t98.276\t116\t2\t0\t1\t116\t841988\t841873\t1.23e-53\t204\n",
            "TOL_2453\tscaffold1_cov232\t98.276\t116\t2\t0\t1\t116\t2531384\t2531499\t1.23e-53\t204\n",
            "TOL_2453\tscaffold35_cov581\t98.990\t99\t1\t0\t1\t99\t99\t1\t7.44e-46\t178\n",
            "# BLASTN 2.6.0+\n",
            "# Query: TOL_2454 23S ribosomal RNA\n",
            "# Database: User specified sequence set (Input: scaffolds.fasta)\n",
            "# Fields: query acc.ver, subject acc.ver, % identity, alignment length, mismatches, gap opens, q. start, q. end, s. start, s. end, evalue, bit score\n",
            "# 5 hits found\n",
            "TOL_2454\tscaffold1_cov232\t100.000\t2887\t0\t0\t1\t2887\t2528316\t2531202\t0.0\t5332\n",
            "TOL_2454\tscaffold1_cov232\t99.965\t2887\t1\t0\t1\t2887\t845056\t842170\t0.0\t5326\n",
            "TOL_2454\tscaffold35_cov581\t100.000\t1535\t0\t0\t1353\t2887\t1815\t281\t0.0\t2835\n",
            "TOL_2454\tscaffold41_cov598\t100.000\t1051\t0\t0\t215\t1265\t1051\t1\t0.0\t1941\n",
            "TOL_2454\tscaffold48_cov623\t100.000\t127\t0\t0\t1\t127\t127\t1\t1.30e-61\t235\n",
            "# BLASTN 2.6.0+\n",
            "# Query: TOL_2455 16S ribosomal RNA\n",
            "# Database: User specified sequence set (Input: scaffolds.fasta)\n",
            "# Fields: query acc.ver, subject acc.ver, % identity, alignment length, mismatches, gap opens, q. start, q. end, s. start, s. end, evalue, bit score\n",
            "# 3 hits found\n",
            "TOL_2455\tscaffold1_cov232\t99.935\t1539\t1\t0\t1\t1539\t846845\t845307\t0.0\t2837\n",
            "TOL_2455\tscaffold1_cov232\t99.870\t1539\t2\t0\t1\t1539\t2526527\t2528065\t0.0\t2832\n",
            "TOL_2455\tscaffold32_cov590\t99.929\t1399\t1\t0\t134\t1532\t1399\t1\t0.0\t2579\n",
            "# BLASTN 2.6.0+\n",
            "# Query: TOL_3250 5S ribosomal RNA\n",
            "# Database: User specified sequence set (Input: scaffolds.fasta)\n",
            "# Fields: query acc.ver, subject acc.ver, % identity, alignment length, mismatches, gap opens, q. start, q. end, s. start, s. end, evalue, bit score\n",
            "# 3 hits found\n",
            "TOL_3250\tscaffold1_cov232\t100.000\t116\t0\t0\t1\t116\t841988\t841873\t5.67e-57\t215\n",
            "TOL_3250\tscaffold1_cov232\t100.000\t116\t0\t0\t1\t116\t2531384\t2531499\t5.67e-57\t215\n",
            "TOL_3250\tscaffold35_cov581\t100.000\t99\t0\t0\t1\t99\t99\t1\t1.60e-47\t183\n",
            "# BLASTN 2.6.0+\n",
            "# Query: TOL_3251 23S ribosomal RNA\n",
            "# Database: User specified sequence set (Input: scaffolds.fasta)\n",
            "# Fields: query acc.ver, subject acc.ver, % identity, alignment length, mismatches, gap opens, q. start, q. end, s. start, s. end, evalue, bit score\n",
            "# 5 hits found\n",
            "TOL_3251\tscaffold1_cov232\t100.000\t2887\t0\t0\t1\t2887\t2528316\t2531202\t0.0\t5332\n",
            "TOL_3251\tscaffold1_cov232\t99.965\t2887\t1\t0\t1\t2887\t845056\t842170\t0.0\t5326\n",
            "TOL_3251\tscaffold35_cov581\t100.000\t1535\t0\t0\t1353\t2887\t1815\t281\t0.0\t2835\n",
            "TOL_3251\tscaffold41_cov598\t100.000\t1051\t0\t0\t215\t1265\t1051\t1\t0.0\t1941\n",
            "TOL_3251\tscaffold48_cov623\t100.000\t127\t0\t0\t1\t127\t127\t1\t1.30e-61\t235\n",
            "# BLASTN 2.6.0+\n",
            "# Query: TOL_3252 16S ribosomal RNA\n",
            "# Database: User specified sequence set (Input: scaffolds.fasta)\n",
            "# Fields: query acc.ver, subject acc.ver, % identity, alignment length, mismatches, gap opens, q. start, q. end, s. start, s. end, evalue, bit score\n",
            "# 3 hits found\n",
            "TOL_3252\tscaffold1_cov232\t99.935\t1539\t1\t0\t1\t1539\t846845\t845307\t0.0\t2837\n",
            "TOL_3252\tscaffold1_cov232\t99.870\t1539\t2\t0\t1\t1539\t2526527\t2528065\t0.0\t2832\n",
            "TOL_3252\tscaffold32_cov590\t99.929\t1399\t1\t0\t134\t1532\t1399\t1\t0.0\t2579\n",
            "# BLASTN 2.6.0+\n",
            "# Query: TOL_3253 5S ribosomal RNA\n",
            "# Database: User specified sequence set (Input: scaffolds.fasta)\n",
            "# Fields: query acc.ver, subject acc.ver, % identity, alignment length, mismatches, gap opens, q. start, q. end, s. start, s. end, evalue, bit score\n",
            "# 3 hits found\n",
            "TOL_3253\tscaffold1_cov232\t100.000\t116\t0\t0\t1\t116\t841988\t841873\t5.67e-57\t215\n",
            "TOL_3253\tscaffold1_cov232\t100.000\t116\t0\t0\t1\t116\t2531384\t2531499\t5.67e-57\t215\n",
            "TOL_3253\tscaffold35_cov581\t100.000\t99\t0\t0\t1\t99\t99\t1\t1.60e-47\t183\n",
            "# BLASTN 2.6.0+\n",
            "# Query: TOL_3254 23S ribosomal RNA\n",
            "# Database: User specified sequence set (Input: scaffolds.fasta)\n",
            "# Fields: query acc.ver, subject acc.ver, % identity, alignment length, mismatches, gap opens, q. start, q. end, s. start, s. end, evalue, bit score\n",
            "# 5 hits found\n",
            "TOL_3254\tscaffold1_cov232\t100.000\t2887\t0\t0\t1\t2887\t2528316\t2531202\t0.0\t5332\n",
            "TOL_3254\tscaffold1_cov232\t99.965\t2887\t1\t0\t1\t2887\t845056\t842170\t0.0\t5326\n",
            "TOL_3254\tscaffold35_cov581\t100.000\t1535\t0\t0\t1353\t2887\t1815\t281\t0.0\t2835\n",
            "TOL_3254\tscaffold41_cov598\t100.000\t1051\t0\t0\t215\t1265\t1051\t1\t0.0\t1941\n",
            "TOL_3254\tscaffold48_cov623\t100.000\t127\t0\t0\t1\t127\t127\t1\t1.30e-61\t235\n",
            "# BLASTN 2.6.0+\n",
            "# Query: TOL_3255 16S ribosomal RNA\n",
            "# Database: User specified sequence set (Input: scaffolds.fasta)\n",
            "# Fields: query acc.ver, subject acc.ver, % identity, alignment length, mismatches, gap opens, q. start, q. end, s. start, s. end, evalue, bit score\n",
            "# 3 hits found\n",
            "TOL_3255\tscaffold1_cov232\t99.935\t1539\t1\t0\t1\t1539\t846845\t845307\t0.0\t2837\n",
            "TOL_3255\tscaffold1_cov232\t99.870\t1539\t2\t0\t1\t1539\t2526527\t2528065\t0.0\t2832\n",
            "TOL_3255\tscaffold32_cov590\t99.929\t1399\t1\t0\t134\t1532\t1399\t1\t0.0\t2579\n",
            "# BLAST processed 12 queries\n"
          ]
        }
      ]
    },
    {
      "cell_type": "code",
      "source": [
        "%%capture\n",
        "!wget https://raw.githubusercontent.com/SpryGorgon/hse22_hw2/main/data/GENOME.gbk"
      ],
      "metadata": {
        "id": "RJ1lxqYdKW_i"
      },
      "execution_count": 7,
      "outputs": []
    },
    {
      "cell_type": "code",
      "source": [
        "genome = SeqIO.to_dict(SeqIO.parse(\"/content/GENOME.gbk\", \"genbank\"))\n",
        "lines=[]\n",
        "with open('blastn.txt') as f:\n",
        "    lines.extend(f.readlines())\n",
        "\n",
        "for line in lines:\n",
        "    words = line.split()\n",
        "    blast_query, blast_subject = words[0], words[1]\n",
        "    for record in records:\n",
        "        if (record.id != blast_query) or (blast_subject not in genome):\n",
        "            continue\n",
        "        _start, _end, _strand = int(words[8]), int(words[9]), 1 if words[8]<words[9] else -1\n",
        "        if(_start>_end):\n",
        "            _start, _end = _end, _start\n",
        "        feature = SeqFeature(FeatureLocation(_start, _end, _strand), type='rRNA')\n",
        "        feature.qualifiers['note'] = words[0]\n",
        "        \n",
        "        genome[blast_subject].features.append(feature)\n",
        "\n",
        "pprint([record[1] for record in genome.items()][0].features[-1].qualifiers)"
      ],
      "metadata": {
        "colab": {
          "base_uri": "https://localhost:8080/"
        },
        "id": "BrkvlolSKbNr",
        "outputId": "9861080a-b858-46bc-feff-0f996c5cc762"
      },
      "execution_count": 8,
      "outputs": [
        {
          "output_type": "stream",
          "name": "stdout",
          "text": [
            "OrderedDict([('note', 'TOL_3255')])\n"
          ]
        }
      ]
    },
    {
      "cell_type": "code",
      "source": [
        "SeqIO.write([record[1] for record in genome.items()], \"GENOME_bonus.gbk\", \"genbank\")"
      ],
      "metadata": {
        "colab": {
          "base_uri": "https://localhost:8080/"
        },
        "id": "83j8cEq3N7Sl",
        "outputId": "a95e2cf6-9686-4170-fd90-75e6ba82c739"
      },
      "execution_count": 9,
      "outputs": [
        {
          "output_type": "execute_result",
          "data": {
            "text/plain": [
              "69"
            ]
          },
          "metadata": {},
          "execution_count": 9
        }
      ]
    }
  ]
}